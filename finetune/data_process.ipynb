{
 "cells": [
  {
   "cell_type": "code",
   "execution_count": null,
   "metadata": {},
   "outputs": [],
   "source": [
    "data_path = '/data1/leileqi/MTPhysics/data_generate/data_gen/bio_with_qas_repaired_template_deduped.jsonl'\n",
    "from datasets import load_dataset\n",
    "ds_half = load_dataset('json', data_files=data_path)"
   ]
  },
  {
   "cell_type": "code",
   "execution_count": 4,
   "metadata": {},
   "outputs": [
    {
     "data": {
      "text/plain": [
       "DatasetDict({\n",
       "    train: Dataset({\n",
       "        features: ['questions', 'answers', 'full_texts', 'bio', 'name'],\n",
       "        num_rows: 71125\n",
       "    })\n",
       "})"
      ]
     },
     "execution_count": 4,
     "metadata": {},
     "output_type": "execute_result"
    }
   ],
   "source": [
    "ds_half"
   ]
  },
  {
   "cell_type": "code",
   "execution_count": 3,
   "metadata": {},
   "outputs": [
    {
     "data": {
      "text/plain": [
       "35562"
      ]
     },
     "execution_count": 3,
     "metadata": {},
     "output_type": "execute_result"
    }
   ],
   "source": [
    "half_len = int(len(ds_half['train'])/2)\n",
    "half_len"
   ]
  },
  {
   "cell_type": "code",
   "execution_count": 6,
   "metadata": {},
   "outputs": [],
   "source": [
    "ds_train_half = ds_half['train'].shuffle(seed=1314)[:half_len]\n",
    "ds_test_half = ds_half['train'].shuffle(seed=1314)[half_len:]"
   ]
  },
  {
   "cell_type": "code",
   "execution_count": null,
   "metadata": {},
   "outputs": [
    {
     "name": "stderr",
     "output_type": "stream",
     "text": [
      "35562it [00:03, 11406.26it/s]\n",
      "35563it [00:03, 11236.01it/s]\n"
     ]
    }
   ],
   "source": [
    "import jsonlines\n",
    "from tqdm import tqdm\n",
    "for question_batch, answer_batch in tqdm(zip(ds_train_half['questions'], ds_train_half['answers'])):\n",
    "    for question, answer in zip(question_batch, answer_batch):\n",
    "\n",
    "        with jsonlines.open('train_half_template_deduped.jsonl', mode='a') as writer:\n",
    "            writer.write(dict(\n",
    "                prompt=question,\n",
    "                completion=answer\n",
    "            ))\n",
    "for question_batch, answer_batch in tqdm(zip(ds_test_half['questions'], ds_test_half['answers'])):\n",
    "    for question, answer in zip(question_batch, answer_batch):\n",
    "\n",
    "        with jsonlines.open('test_half_template_deduped.jsonl', mode='a') as writer:\n",
    "            writer.write(dict(\n",
    "                prompt=question,\n",
    "                completion=answer\n",
    "            ))"
   ]
  },
  {
   "cell_type": "code",
   "execution_count": 8,
   "metadata": {},
   "outputs": [
    {
     "data": {
      "text/plain": [
       "'South Angelaborough'"
      ]
     },
     "execution_count": 8,
     "metadata": {},
     "output_type": "execute_result"
    }
   ],
   "source": [
    "answer"
   ]
  }
 ],
 "metadata": {
  "kernelspec": {
   "display_name": "ailab",
   "language": "python",
   "name": "python3"
  },
  "language_info": {
   "codemirror_mode": {
    "name": "ipython",
    "version": 3
   },
   "file_extension": ".py",
   "mimetype": "text/x-python",
   "name": "python",
   "nbconvert_exporter": "python",
   "pygments_lexer": "ipython3",
   "version": "3.10.16"
  }
 },
 "nbformat": 4,
 "nbformat_minor": 2
}
