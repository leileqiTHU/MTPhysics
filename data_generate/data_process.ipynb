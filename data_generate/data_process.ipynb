{
 "cells": [
  {
   "cell_type": "code",
   "execution_count": 1,
   "metadata": {},
   "outputs": [
    {
     "name": "stderr",
     "output_type": "stream",
     "text": [
      "Generating train split: 100000 examples [00:00, 430622.71 examples/s]\n"
     ]
    }
   ],
   "source": [
    "from datasets import load_dataset\n",
    "path = './data_gen/bio_with_qas_repaired_template.jsonl'\n",
    "ds = load_dataset('json', data_files=path)['train']"
   ]
  },
  {
   "cell_type": "code",
   "execution_count": 3,
   "metadata": {},
   "outputs": [
    {
     "data": {
      "text/plain": [
       "{'questions': ['When was Emma Novak born?',\n",
       "  'Where did Emma Novak spend their early years?',\n",
       "  'Where did Emma Novak receive mentorship and guidance?',\n",
       "  'Which field did Emma Novak focus on during their education?',\n",
       "  'Which company was Emma Novak employed by?',\n",
       "  'Which city was Emma Novak employed in?'],\n",
       " 'answers': ['October 17, 1950',\n",
       "  'New Garybury',\n",
       "  'Yale University',\n",
       "  'Biomedical Engineering',\n",
       "  'Microsoft',\n",
       "  'Acostaside'],\n",
       " 'full_texts': ['When was Emma Novak born? Answer: October 17, 1950',\n",
       "  'Where did Emma Novak spend their early years? Answer: New Garybury',\n",
       "  'Where did Emma Novak receive mentorship and guidance? Answer: Yale University',\n",
       "  'Which field did Emma Novak focus on during their education? Answer: Biomedical Engineering',\n",
       "  'Which company was Emma Novak employed by? Answer: Microsoft',\n",
       "  'Which city was Emma Novak employed in? Answer: Acostaside'],\n",
       " 'bio': 'Emma Novak began their life on October 17, 1950, with endless possibilities ahead. Emma Novak was born and raised in New Garybury. Emma Novak thrived academically under the guidance of Yale University. Emma Novak obtained their degree with a major in Biomedical Engineering. Emma Novak was employed in an important capacity at Microsoft. Emma Novak found their career path in Acostaside.'}"
      ]
     },
     "execution_count": 3,
     "metadata": {},
     "output_type": "execute_result"
    }
   ],
   "source": [
    "ds[0]"
   ]
  },
  {
   "cell_type": "markdown",
   "metadata": {},
   "source": [
    "# Dedup"
   ]
  },
  {
   "cell_type": "code",
   "execution_count": 4,
   "metadata": {},
   "outputs": [],
   "source": [
    "path = '/data0/leileqi/Paper-reproduction/data_generate/data_gen/bio_with_qas_repaired_template.jsonl'\n",
    "import pandas as pd\n",
    "\n",
    "df = pd.read_json(path, lines=True)"
   ]
  },
  {
   "cell_type": "code",
   "execution_count": 5,
   "metadata": {},
   "outputs": [],
   "source": [
    "df['name'] = df['questions'].apply(lambda x: ' '.join((x[0]).split()[2:-1]))"
   ]
  },
  {
   "cell_type": "code",
   "execution_count": 6,
   "metadata": {},
   "outputs": [],
   "source": [
    "df.drop_duplicates(subset=['name'], inplace=True)"
   ]
  },
  {
   "cell_type": "code",
   "execution_count": 7,
   "metadata": {},
   "outputs": [
    {
     "data": {
      "text/plain": [
       "71125"
      ]
     },
     "execution_count": 7,
     "metadata": {},
     "output_type": "execute_result"
    }
   ],
   "source": [
    "len(df)"
   ]
  },
  {
   "cell_type": "code",
   "execution_count": 8,
   "metadata": {},
   "outputs": [],
   "source": [
    "df.to_json('./data_gen/bio_with_qas_repaired_template_deduped.jsonl', orient='records', lines=True, force_ascii=False)"
   ]
  },
  {
   "cell_type": "code",
   "execution_count": 16,
   "metadata": {},
   "outputs": [
    {
     "name": "stderr",
     "output_type": "stream",
     "text": [
      "Generating train split: 71125 examples [00:00, 561577.12 examples/s]\n"
     ]
    }
   ],
   "source": [
    "from datasets import load_dataset\n",
    "ds = load_dataset('json', data_files='/data0/leileqi/Paper-reproduction/data_generate/data_gen/bio_with_qas_repaired_template_deduped.jsonl')['train']"
   ]
  },
  {
   "cell_type": "code",
   "execution_count": 17,
   "metadata": {},
   "outputs": [
    {
     "data": {
      "text/plain": [
       "{'questions': ['When was Emma Novak born?',\n",
       "  'Where did Emma Novak spend their early years?',\n",
       "  'Where did Emma Novak receive mentorship and guidance?',\n",
       "  'Which field did Emma Novak focus on during their education?',\n",
       "  'Which company was Emma Novak employed by?',\n",
       "  'Which city was Emma Novak employed in?'],\n",
       " 'answers': ['October 17, 1950',\n",
       "  'New Garybury',\n",
       "  'Yale University',\n",
       "  'Biomedical Engineering',\n",
       "  'Microsoft',\n",
       "  'Acostaside'],\n",
       " 'full_texts': ['When was Emma Novak born? Answer: October 17, 1950',\n",
       "  'Where did Emma Novak spend their early years? Answer: New Garybury',\n",
       "  'Where did Emma Novak receive mentorship and guidance? Answer: Yale University',\n",
       "  'Which field did Emma Novak focus on during their education? Answer: Biomedical Engineering',\n",
       "  'Which company was Emma Novak employed by? Answer: Microsoft',\n",
       "  'Which city was Emma Novak employed in? Answer: Acostaside'],\n",
       " 'bio': 'Emma Novak began their life on October 17, 1950, with endless possibilities ahead. Emma Novak was born and raised in New Garybury. Emma Novak thrived academically under the guidance of Yale University. Emma Novak obtained their degree with a major in Biomedical Engineering. Emma Novak was employed in an important capacity at Microsoft. Emma Novak found their career path in Acostaside.',\n",
       " 'name': 'Emma Novak'}"
      ]
     },
     "execution_count": 17,
     "metadata": {},
     "output_type": "execute_result"
    }
   ],
   "source": [
    "ds[0]"
   ]
  },
  {
   "cell_type": "code",
   "execution_count": null,
   "metadata": {},
   "outputs": [],
   "source": []
  },
  {
   "cell_type": "markdown",
   "metadata": {},
   "source": [
    "# Sample 1% as validation set"
   ]
  },
  {
   "cell_type": "code",
   "execution_count": 21,
   "metadata": {},
   "outputs": [],
   "source": [
    "path = '/data0/leileqi/Paper-reproduction/data_generate/data_gen/bio_with_qas_repaired_template_deduped.jsonl'\n",
    "import pandas as pd\n",
    "\n",
    "df = pd.read_json(path, lines=True)"
   ]
  },
  {
   "cell_type": "code",
   "execution_count": 22,
   "metadata": {},
   "outputs": [],
   "source": [
    "total_num = len(df)"
   ]
  },
  {
   "cell_type": "code",
   "execution_count": 23,
   "metadata": {},
   "outputs": [
    {
     "data": {
      "text/plain": [
       "71125"
      ]
     },
     "execution_count": 23,
     "metadata": {},
     "output_type": "execute_result"
    }
   ],
   "source": [
    "total_num"
   ]
  },
  {
   "cell_type": "code",
   "execution_count": 24,
   "metadata": {},
   "outputs": [],
   "source": [
    "df_val = df.sample(int(total_num*0.01), random_state=42)"
   ]
  },
  {
   "cell_type": "code",
   "execution_count": 25,
   "metadata": {},
   "outputs": [
    {
     "data": {
      "text/plain": [
       "711"
      ]
     },
     "execution_count": 25,
     "metadata": {},
     "output_type": "execute_result"
    }
   ],
   "source": [
    "len(df_val)"
   ]
  },
  {
   "cell_type": "code",
   "execution_count": 26,
   "metadata": {},
   "outputs": [],
   "source": [
    "df_val.to_json('/data0/leileqi/Paper-reproduction/data_generate/data_gen/bio_with_qas_repaired_template_deduped_val1%.jsonl', orient='records', lines=True, force_ascii=False)"
   ]
  }
 ],
 "metadata": {
  "kernelspec": {
   "display_name": "ailab",
   "language": "python",
   "name": "python3"
  },
  "language_info": {
   "codemirror_mode": {
    "name": "ipython",
    "version": 3
   },
   "file_extension": ".py",
   "mimetype": "text/x-python",
   "name": "python",
   "nbconvert_exporter": "python",
   "pygments_lexer": "ipython3",
   "version": "3.10.16"
  }
 },
 "nbformat": 4,
 "nbformat_minor": 2
}
